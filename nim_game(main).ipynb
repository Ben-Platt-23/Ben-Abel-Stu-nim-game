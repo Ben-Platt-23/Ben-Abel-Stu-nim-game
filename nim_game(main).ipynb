{
 "cells": [
  {
   "cell_type": "code",
   "execution_count": 1,
   "metadata": {},
   "outputs": [],
   "source": [
    "import random"
   ]
  },
  {
   "cell_type": "code",
   "execution_count": 2,
   "metadata": {},
   "outputs": [],
   "source": [
    "pile_dict = {}\n",
    "start_sequence = None\n",
    "userTurn = False\n",
    "computerTurn = False"
   ]
  },
  {
   "cell_type": "code",
   "execution_count": 3,
   "metadata": {},
   "outputs": [],
   "source": [
    "def select_stones():\n",
    "    global stones\n",
    "    stones = 0\n",
    "    # Creates a counter for the for loop\n",
    "    counter = 0\n",
    "\n",
    "    # Starts a for loop using the value that number of piles holds as a range\n",
    "    for pile in range(number_of_piles):\n",
    "        # Creates a variable that will hold the users input for how many stones they want to remove from the given pile\n",
    "        stones_in_pile = int(input('How many stones do you want in this pile? Choices are 1 through 10.\\n'))\n",
    "        # Takes the dictionary i created earlier and sets the key as the counter(pile number) and the value as the amount of stones in the pile\n",
    "        pile_dict[counter] = stones_in_pile\n",
    "        # Adds one to the counter for the next run\n",
    "        counter += 1\n",
    "    \n",
    "    for pile in range(number_of_piles):\n",
    "        stones += int(pile_dict[pile])"
   ]
  },
  {
   "cell_type": "code",
   "execution_count": 4,
   "metadata": {},
   "outputs": [],
   "source": [
    "def select_number_piles():\n",
    "    # Creates a variable that holds the value for the amount of piles the user wants \n",
    "    global number_of_piles\n",
    "    number_of_piles = int(input('How many piles do you want to play with? Choices are 1 through 10.\\n'))\n",
    "    \n",
    "    # Exception catching\n",
    "    if number_of_piles >= 1 and number_of_piles <= 10 and number_of_piles and number_of_piles == int(number_of_piles):\n",
    "        print('Your number of piles is ' + str(number_of_piles) + '.')\n",
    "        select_stones()\n",
    "    else:\n",
    "        print('Invalid input.\\n Please enter an integer value between 1 and 10.')\n",
    "        select_number_piles()"
   ]
  },
  {
   "cell_type": "code",
   "execution_count": 5,
   "metadata": {},
   "outputs": [],
   "source": [
    "def display_board():\n",
    "    # Another for loop using number of piles as a range\n",
    "    for i in range(number_of_piles):\n",
    "        # Prints out multiples lines based on how many piles there are \n",
    "        # The .format function takes in the pile + 1 and then prints out 'o's based on how many stones are currently in the given pile\n",
    "        statement = ('{}'.format('o ' * int(pile_dict[i])))\n",
    "        print(statement.center(20))"
   ]
  },
  {
   "cell_type": "code",
   "execution_count": 6,
   "metadata": {},
   "outputs": [],
   "source": [
    "def win_check():\n",
    "    global user_win\n",
    "    user_win = False\n",
    "    global computer_win\n",
    "    computer_win = False\n",
    "    if stones == 0:\n",
    "        if start_sequence == 1:\n",
    "            user_win = True\n",
    "            computer_win = False\n",
    "        elif start_sequence == 0:\n",
    "            computer_win = True\n",
    "            user_win = False"
   ]
  },
  {
   "cell_type": "code",
   "execution_count": 7,
   "metadata": {},
   "outputs": [],
   "source": [
    "def nim_game():\n",
    "    global start_sequence\n",
    "\n",
    "    print('Welcome to the nim game.')\n",
    "\n",
    "    select_number_piles()\n",
    "\n",
    "    start_sequence = int(input('Enter 1 to go first or 0 for the computer to go first.'))\n",
    "    try:\n",
    "        if start_sequence == 1 or 2:\n",
    "            play_loop()\n",
    "    except ValueError:\n",
    "        start_sequence()"
   ]
  },
  {
   "cell_type": "code",
   "execution_count": 8,
   "metadata": {},
   "outputs": [],
   "source": [
    "def play_loop():\n",
    "    global stones\n",
    "    \n",
    "    if stones > 0:\n",
    "        if start_sequence == 1:\n",
    "            user_turn()\n",
    "        elif start_sequence == 0:\n",
    "            computer_turn()\n",
    "        elif stones == 0:\n",
    "            win_check()\n",
    "            if user_win == True:\n",
    "                print('Congratulations, you won!!!')\n",
    "            elif computer_win == True:\n",
    "                print('Sorry, the computer beat you.')"
   ]
  },
  {
   "cell_type": "code",
   "execution_count": 9,
   "metadata": {},
   "outputs": [],
   "source": [
    "def user_turn():\n",
    "        global stones\n",
    "        global pile_to_remove_from\n",
    "        global stones_to_remove\n",
    "        global start_sequence\n",
    "        global piles \n",
    "        piles = []\n",
    "        global pile_length\n",
    "        pile_length = []\n",
    "        \n",
    "        for pile in range(number_of_piles):\n",
    "            piles.append(pile)\n",
    "\n",
    "        for pile in range(number_of_piles):\n",
    "            pile_length.append(pile_dict[pile])\n",
    "        \n",
    "\n",
    "        display_board()\n",
    "\n",
    "        pile_to_remove_from = int(input(('What pile do you want to remove stones from?'))) - 1\n",
    "\n",
    "        \n",
    "        if pile_to_remove_from == int(pile_to_remove_from) and pile_to_remove_from in pile_dict:\n",
    "            max_remove = pile_dict[pile_to_remove_from]\n",
    "            stones_to_remove = int(input('How many stones do you want to remove from {}. (Max of {} stones)'.format(pile_to_remove_from + 1, max_remove)))\n",
    "            if stones_to_remove == int(stones_to_remove): #and stones_to_remove <= max_remove:\n",
    "                stones -= stones_to_remove\n",
    "                pile_dict[pile_to_remove_from] -= stones_to_remove\n",
    "                # if pile_dict[pile_to_remove_from] == 0:\n",
    "                #     pile_dict.pop(pile_to_remove_from)\n",
    "                print(\"You removed {} from pile {}.\".format(stones_to_remove, pile_to_remove_from + 1))\n",
    "                display_board()        \n",
    "                start_sequence = 0 \n",
    "                play_loop()"
   ]
  },
  {
   "cell_type": "code",
   "execution_count": 10,
   "metadata": {},
   "outputs": [],
   "source": [
    "def computer_turn():\n",
    "        global stones\n",
    "        global start_sequence\n",
    "        global computer_removes\n",
    "        global computer_removes_pile\n",
    "\n",
    "\n",
    "\n",
    "        for pile in range(number_of_piles):\n",
    "                piles.append(pile + 1)\n",
    "\n",
    "\n",
    "        for pile in range(number_of_piles):\n",
    "                pile_length.append(pile_dict[pile])\n",
    "\n",
    "\n",
    "        for pilelen in pile_length:\n",
    "                if pilelen == 0:\n",
    "                        piles.pop(pilelen)\n",
    "\n",
    "        computer_removes_pile = random.choice(piles)\n",
    "        computer_removes = random.randint(1, min(3, stones))\n",
    "\n",
    "        \n",
    "        stones -= computer_removes\n",
    "        pile_dict[computer_removes_pile] -= computer_removes\n",
    "        print(\"The computer removed {} from pile {}.\".format(computer_removes, computer_removes_pile))\n",
    "        win_check()\n",
    "        display_board\n",
    "        start_sequence = 1\n",
    "        play_loop()"
   ]
  },
  {
   "cell_type": "code",
   "execution_count": null,
   "metadata": {},
   "outputs": [],
   "source": [
    "nim_game()\n"
   ]
  },
  {
   "cell_type": "code",
   "execution_count": 31,
   "metadata": {},
   "outputs": [
    {
     "name": "stdout",
     "output_type": "stream",
     "text": [
      "[3, 5, 7]\n",
      "[1, 2, 3]\n",
      "3\n"
     ]
    }
   ],
   "source": [
    "\n",
    "number_of_piles = 3\n",
    "pile_dict = {0:3, 1:5, 2:7}\n",
    "piles = []\n",
    "pile_length = []\n",
    "\n",
    "\n",
    "for pile in range(number_of_piles):\n",
    "        piles.append(pile + 1)\n",
    "\n",
    "\n",
    "for pile in range(number_of_piles):\n",
    "        pile_length.append(pile_dict[pile])\n",
    "\n",
    "\n",
    "for pilelen in pile_length:\n",
    "        if pilelen == 0:\n",
    "                piles.pop(pilelen)\n",
    "\n",
    "computer_removes_pile = random.choice(piles)\n",
    "\n",
    "print(pile_length)\n",
    "print(piles)\n",
    "print(computer_removes_pile)"
   ]
  }
 ],
 "metadata": {
  "interpreter": {
   "hash": "b0fa6594d8f4cbf19f97940f81e996739fb7646882a419484c72d19e05852a7e"
  },
  "kernelspec": {
   "display_name": "Python 3",
   "language": "python",
   "name": "python3"
  },
  "language_info": {
   "codemirror_mode": {
    "name": "ipython",
    "version": 3
   },
   "file_extension": ".py",
   "mimetype": "text/x-python",
   "name": "python",
   "nbconvert_exporter": "python",
   "pygments_lexer": "ipython3",
   "version": "3.9.10"
  }
 },
 "nbformat": 4,
 "nbformat_minor": 2
}
