{
 "cells": [
  {
   "cell_type": "code",
   "execution_count": null,
   "metadata": {},
   "outputs": [],
   "source": [
    "import random"
   ]
  },
  {
   "cell_type": "code",
   "execution_count": null,
   "metadata": {},
   "outputs": [],
   "source": [
    "pile_dict = {}\n",
    "start_sequence = None\n",
    "userTurn = False\n",
    "computerTurn = False"
   ]
  },
  {
   "cell_type": "code",
   "execution_count": null,
   "metadata": {},
   "outputs": [],
   "source": [
    "def select_stones():\n",
    "    global stones\n",
    "    stones = 0\n",
    "    # Creates a counter for the for loop\n",
    "    counter  = 0\n",
    "\n",
    "    # Starts a for loop using the value that number of piles holds as a range\n",
    "    for pile in range(number_of_piles):\n",
    "        # Creates a variable that will hold the users input for how many stones they want to remove from the given pile\n",
    "        stones_in_pile = input('How many stones do you want in this pile? Choices are 1 through 10.\\n')\n",
    "        # Takes the dictionary i created earlier and sets the key as the counter(pile number) and the value as the amount of stones in the pile\n",
    "        pile_dict[counter] = stones_in_pile\n",
    "        # Adds one to the counter for the next run\n",
    "        counter += 1\n",
    "    \n",
    "    for i in range(number_of_piles):\n",
    "        stones += int(pile_dict[i])\n",
    "\n",
    "        \n",
    "#I MOVED THIS BELOW SELECT_STONES() SINCE IT USES SELECT_STONES()\n",
    "def select_number_piles():\n",
    "    # Creates a variable that holds the value for the amount of piles the user wants \n",
    "    global number_of_piles\n",
    "    number_of_piles = int(input('How many piles do you want to play with? Choices are 1 through 10.\\n'))\n",
    "    \n",
    "    # Exception catching\n",
    "    if number_of_piles >= 1 and number_of_piles <= 10 and number_of_piles and number_of_piles == int(number_of_piles):\n",
    "        print('Your number of piles is ' + str(number_of_piles) + '.')\n",
    "        select_stones()\n",
    "    else:\n",
    "        print('Invalid input.\\n Please enter an integer value between 1 and 10.')\n",
    "        select_number_piles()"
   ]
  },
  {
   "cell_type": "code",
   "execution_count": null,
   "metadata": {},
   "outputs": [],
   "source": [
    "def display_board():\n",
    "    # Another for loop using number of piles as a range\n",
    "    for i in range(number_of_piles):\n",
    "        # Prints out multiples lines based on how many piles there are \n",
    "        # The .format function takes in the pile + 1 and then prints out 'o's based on how many stones are currently in the given pile\n",
    "        statement = ('{}'.format('o ' * int(pile_dict[i])))\n",
    "        print(statement.center(20))"
   ]
  },
  {
   "cell_type": "code",
   "execution_count": null,
   "metadata": {},
   "outputs": [],
   "source": [
    "def win_check():\n",
    "    user_win = False\n",
    "    computer_win = False\n",
    "    if stones == 0:\n",
    "        if start_sequence == 1:\n",
    "            user_win = True\n",
    "            computer_win = False\n",
    "        elif start_sequence == 0:\n",
    "            computer_win = True\n",
    "            user_win = False"
   ]
  },
  {
   "cell_type": "code",
   "execution_count": null,
   "metadata": {},
   "outputs": [],
   "source": [
    "def nim_game():\n",
    "    select_number_piles()\n",
    "    \n",
    "    print('Welcome to the nim game.')\n",
    "    start_sequence = int(input('Enter 1 to go first or 0 for the computer to go first.'))\n",
    "\n",
    "    if start_sequence == 1:\n",
    "        userTurn = True\n",
    "        computerTurn = False\n",
    "        user_turn()\n",
    "    elif start_sequence == 0:\n",
    "        userTurn = False\n",
    "        computerTurn = True\n",
    "        computer_turn()\n",
    "    else:\n",
    "        print('Invalid entry, please enter an integer value between 1 and 0.')"
   ]
  },
  {
   "cell_type": "code",
   "execution_count": null,
   "metadata": {},
   "outputs": [],
   "source": [
    "def user_turn():\n",
    "        ###\n",
    "        #THIS LINE TELLS PYTHON THAT YOU'RE USING THE GLOBAL STONES VARIABLE INSTEAD OF A \n",
    "        #DIFFERENT LOCAL VARIABLE THAT WAS ALSO NAMED STONES\n",
    "        global stones\n",
    "        global pile_to_remove_from\n",
    "        global stones_to_remove\n",
    "        pile_length = []\n",
    "        \n",
    "        # for pile in range(number_of_piles):\n",
    "        #         pile_length.append(pile_dict[pile])\n",
    "        # max_remove = min(pile_length)\n",
    "\n",
    "        display_board()\n",
    "\n",
    "        pile_to_remove_from = int(input('What pile do you want to remove stones from?'))\n",
    "        \n",
    "        if pile_to_remove_from == int(pile_to_remove_from) and pile_to_remove_from in pile_dict:\n",
    "            max_remove = pile_dict[pile_to_remove_from]\n",
    "            stones_to_remove = int(input('How many stones do you want to remove from {}. (Max of {} stones)'.format(pile_to_remove_from, max_remove)))\n",
    "            if stones_to_remove == int(stones_to_remove) and stones_to_remove <= max_remove:\n",
    "                stones -= stones_to_remove\n",
    "                pile_dict[pile_to_remove_from] -= stones_to_remove\n",
    "\n",
    "\n",
    "\n",
    "        try:\n",
    "            pile_to_remove_from = int(pile_to_remove_from)\n",
    "            stones_to_remove = int(stones_to_remove)\n",
    "            stones_to_remove <= max_remove\n",
    "\n",
    "\n",
    "            stones -= stones_to_remove\n",
    "\n",
    "            pile_dict[pile_to_remove_from] -= stones_to_remove\n",
    "\n",
    "            start_sequence = 0\n",
    "\n",
    "            display_board()\n",
    "\n",
    "\n",
    "\n",
    "        except:\n",
    "            display_board()\n",
    "            print('Invalid input. There are {} piles and the max you can remove from a given pile is {} stones.'.format(number_of_piles, max_remove))\n",
    "            user_turn()\n",
    "\n",
    "\n",
    "\n",
    "\n",
    "        # if stones_to_remove > 3:\n",
    "        #     print(\"You can't remove more than 3 stones at a time.\")\n",
    "        #     user_turn()\n",
    "        # elif stones - stones_to_remove < 0:\n",
    "        #     print(\"There aren't that many stones left.\")\n",
    "        #     user_turn()\n",
    "        # else:\n",
    "        #     stones -= stones_to_remove\n",
    "        #     ###I ADDED THESE PRINT STATEMENTS TO HELP YOUR DEBUGGING FROM HERE!\n",
    "        #     #print(pile_dict[pile_to_remove_from])\n",
    "        #     #print(type(pile_dict[pile_to_remove_from]),type(stones_to_remove))\n",
    "        #     ###\n",
    "        #     pile_dict[pile_to_remove_from] -= stones_to_remove\n",
    "        #     print(\"You removed {} from pile {}.\".format(stones_to_remove, pile_to_remove_from))\n",
    "        #     display_board()"
   ]
  },
  {
   "cell_type": "code",
   "execution_count": null,
   "metadata": {},
   "outputs": [],
   "source": [
    "def computer_turn():\n",
    "        display_board()\n",
    "        global computer_removes_pile\n",
    "        computer_removes_pile = random.randint(range(number_of_piles))\n",
    "        global computer_removes\n",
    "        computer_removes = random.randint(1, min(3, stones))\n",
    "        stones -= computer_removes\n",
    "        pile_dict[computer_removes_pile] -= computer_removes\n",
    "        print(\"The computer removed {} from pile {}.\".format(computer_removes, computer_removes_pile))\n",
    "        win_check()\n",
    "        start_sequence = 1\n",
    "        display_board"
   ]
  },
  {
   "cell_type": "code",
   "execution_count": null,
   "metadata": {},
   "outputs": [],
   "source": [
    "nim_game()"
   ]
  }
 ],
 "metadata": {
  "interpreter": {
   "hash": "b0fa6594d8f4cbf19f97940f81e996739fb7646882a419484c72d19e05852a7e"
  },
  "kernelspec": {
   "display_name": "Python 3",
   "language": "python",
   "name": "python3"
  },
  "language_info": {
   "codemirror_mode": {
    "name": "ipython",
    "version": 3
   },
   "file_extension": ".py",
   "mimetype": "text/x-python",
   "name": "python",
   "nbconvert_exporter": "python",
   "pygments_lexer": "ipython3",
   "version": "3.9.10"
  }
 },
 "nbformat": 4,
 "nbformat_minor": 2
}
