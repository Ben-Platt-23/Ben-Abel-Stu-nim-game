{
 "cells": [
  {
   "cell_type": "code",
   "execution_count": 1,
   "metadata": {},
   "outputs": [],
   "source": [
    "import random"
   ]
  },
  {
   "cell_type": "code",
   "execution_count": 2,
   "metadata": {},
   "outputs": [],
   "source": [
    "def setup():\n",
    "    counter = 0\n",
    "    global stones\n",
    "    global stones_in_pile\n",
    "    global pile_dict\n",
    "    global number_of_piles\n",
    "    number_of_piles = int(input(\"How many piles do you wan't to play with? (Choices are 1 through 10.)\\n\"))\n",
    "\n",
    "    if number_of_piles in range(1, 10):\n",
    "        print('Your number of piles is {}.'.format(number_of_piles))\n",
    "        for pile in range(number_of_piles):\n",
    "            stones_in_pile = int(input(\"How many stones do you wan't in this pile? (Choices are 1 through 10).\\n\"))\n",
    "            pile_dict[counter] = stones_in_pile\n",
    "            counter += 1\n",
    "        for i in range(number_of_piles):\n",
    "            stones += int(pile_dict[i]) "
   ]
  },
  {
   "cell_type": "code",
   "execution_count": 3,
   "metadata": {},
   "outputs": [],
   "source": [
    "def display():\n",
    "    for i in range(number_of_piles):\n",
    "        statement = ('{}'.format('o ' * int(pile_dict[i])))\n",
    "        print(statement.center(20))"
   ]
  },
  {
   "cell_type": "code",
   "execution_count": null,
   "metadata": {},
   "outputs": [],
   "source": [
    "def user():\n",
    "    global pile_to_remove_from\n",
    "    global stones_to_remove\n",
    "    display()\n",
    "\n",
    "    pile_to_remove_from = int(input('What pile do you want to remove stones from?'))\n",
    "    stones_to_remove = int(input('How many stones do you want to remove from pile {}?'.format(pile_to_remove_from)))\n",
    "\n",
    "\n",
    "    if stones_to_remove > 3:\n",
    "        print('You cant remove more than 3 stones at a time.')\n",
    "        user()\n",
    "    elif stones - stones_to_remove < 0:\n",
    "        print('There arent that many stones left.')\n",
    "        user()\n",
    "    else:\n",
    "        stones -= stones_to_remove\n",
    "        pile_dict[pile_to_remove_from] -= stones_to_remove\n",
    "        print('You removed {} from pile {}.'.format(stones_to_remove, pile_to_remove_from))\n",
    "        display()"
   ]
  },
  {
   "cell_type": "code",
   "execution_count": null,
   "metadata": {},
   "outputs": [],
   "source": [
    "def nim_game():\n",
    "    global start_sequence\n",
    "    global user_turn\n",
    "    global computer_turn\n",
    "\n",
    "    print('Welcome to the nim game.')\n",
    "    setup()\n",
    "    start_sequence = int(input(\"Enter '1' if you would like to go first or '2' if you would like the computer to go first.\"))\n",
    "\n",
    "    if start_sequence == 1:\n",
    "        user_turn = True\n",
    "        computer_turn = False\n",
    "        #\n",
    "    elif start_sequence == 2:\n",
    "        user_turn = False\n",
    "        computer_turn = True\n",
    "        #\n",
    "\n",
    "\n",
    "\n",
    "    "
   ]
  }
 ],
 "metadata": {
  "interpreter": {
   "hash": "b0fa6594d8f4cbf19f97940f81e996739fb7646882a419484c72d19e05852a7e"
  },
  "kernelspec": {
   "display_name": "Python 3.9.10 64-bit",
   "language": "python",
   "name": "python3"
  },
  "language_info": {
   "codemirror_mode": {
    "name": "ipython",
    "version": 3
   },
   "file_extension": ".py",
   "mimetype": "text/x-python",
   "name": "python",
   "nbconvert_exporter": "python",
   "pygments_lexer": "ipython3",
   "version": "3.9.10"
  },
  "orig_nbformat": 4
 },
 "nbformat": 4,
 "nbformat_minor": 2
}
