{
 "cells": [
  {
   "cell_type": "code",
   "execution_count": 1,
   "metadata": {},
   "outputs": [],
   "source": [
    "import random"
   ]
  },
  {
   "cell_type": "code",
   "execution_count": null,
   "metadata": {},
   "outputs": [],
   "source": [
    "def setup():\n",
    "    counter = 0\n",
    "    global stones\n",
    "    global stones_in_pile\n",
    "    global pile_dict\n",
    "    global number_of_piles\n",
    "    number_of_piles = int(input(\"How many piles do you wan't to play with? (Choices are 1 through 10.)\\n\"))\n",
    "\n",
    "    if number_of_piles in range(1, 10):\n",
    "        print('Your number of piles is {}.'.format(number_of_piles))\n",
    "        for pile in range(number_of_piles):\n",
    "            stones_in_pile = int(input(\"How many stones do you wan't in this pile? (Choices are 1 through 10).\\n\"))\n",
    "            pile_dict[counter] = stones_in_pile\n",
    "            counter += 1\n",
    "        for i in range(number_of_piles):\n",
    "            stones += int(pile_dict[i])\n",
    "        "
   ]
  }
 ],
 "metadata": {
  "interpreter": {
   "hash": "b0fa6594d8f4cbf19f97940f81e996739fb7646882a419484c72d19e05852a7e"
  },
  "kernelspec": {
   "display_name": "Python 3.9.10 64-bit",
   "language": "python",
   "name": "python3"
  },
  "language_info": {
   "codemirror_mode": {
    "name": "ipython",
    "version": 3
   },
   "file_extension": ".py",
   "mimetype": "text/x-python",
   "name": "python",
   "nbconvert_exporter": "python",
   "pygments_lexer": "ipython3",
   "version": "3.9.10"
  },
  "orig_nbformat": 4
 },
 "nbformat": 4,
 "nbformat_minor": 2
}
