{
 "cells": [
  {
   "cell_type": "code",
   "execution_count": 88,
   "metadata": {},
   "outputs": [],
   "source": [
    "import random"
   ]
  },
  {
   "cell_type": "code",
   "execution_count": 104,
   "metadata": {},
   "outputs": [],
   "source": [
    "pile_dict = {}"
   ]
  },
  {
   "cell_type": "code",
   "execution_count": 105,
   "metadata": {},
   "outputs": [],
   "source": [
    "def setup():\n",
    "    counter = 0\n",
    "\n",
    "    global number_of_piles\n",
    "    number_of_piles = int(input(\"How many piles do you wan't to play with? (Choices are 1 through 10.)\\n\"))\n",
    "\n",
    "    if number_of_piles in range(1, 10):\n",
    "        print('Your number of piles is {}.'.format(number_of_piles))\n",
    "        for counter in range(number_of_piles):\n",
    "            global stones_in_pile\n",
    "            stones_in_pile = int(input(\"How many stones do you wan't in this pile? (Choices are 1 through 10).\\n\"))\n",
    "            pile_dict[counter] = stones_in_pile\n",
    "            counter += 1"
   ]
  },
  {
   "cell_type": "code",
   "execution_count": 106,
   "metadata": {},
   "outputs": [
    {
     "name": "stdout",
     "output_type": "stream",
     "text": [
      "Your number of piles is 3.\n"
     ]
    }
   ],
   "source": [
    "setup()"
   ]
  },
  {
   "cell_type": "code",
   "execution_count": 107,
   "metadata": {},
   "outputs": [
    {
     "name": "stdout",
     "output_type": "stream",
     "text": [
      "3\n"
     ]
    }
   ],
   "source": [
    "print(number_of_piles)"
   ]
  },
  {
   "cell_type": "code",
   "execution_count": 120,
   "metadata": {},
   "outputs": [],
   "source": [
    "def number_of_stones():\n",
    "    global stones\n",
    "    stones = 0\n",
    "    for pile in range(number_of_piles):\n",
    "        stones += pile_dict[pile]\n",
    "    print(stones)"
   ]
  },
  {
   "cell_type": "code",
   "execution_count": 115,
   "metadata": {},
   "outputs": [
    {
     "data": {
      "text/plain": [
       "15"
      ]
     },
     "execution_count": 115,
     "metadata": {},
     "output_type": "execute_result"
    }
   ],
   "source": [
    "stones"
   ]
  },
  {
   "cell_type": "code",
   "execution_count": 92,
   "metadata": {},
   "outputs": [],
   "source": [
    "def display():\n",
    "    for i in range(number_of_piles):\n",
    "        statement = ('{}'.format('o ' * int(pile_dict[i])))\n",
    "        print(statement.center(20))"
   ]
  },
  {
   "cell_type": "code",
   "execution_count": 113,
   "metadata": {},
   "outputs": [
    {
     "name": "stdout",
     "output_type": "stream",
     "text": [
      "       o o o        \n",
      "     o o o o o      \n",
      "   o o o o o o o    \n"
     ]
    }
   ],
   "source": [
    "#display()"
   ]
  },
  {
   "cell_type": "code",
   "execution_count": 121,
   "metadata": {},
   "outputs": [],
   "source": [
    "def user():\n",
    "    display()\n",
    "    \n",
    "\n",
    "    pile_to_remove_from = int(input('What pile do you want to remove stones from?'))\n",
    "    print(pile_to_remove_from)\n",
    "    stones_to_remove = int(input('How many stones do you want to remove from pile {}?'.format(pile_to_remove_from)))\n",
    "    print(stones_to_remove)\n",
    "\n",
    "    number_of_stones()\n",
    "\n",
    "    if stones_to_remove > 3:\n",
    "        print('You cant remove more than 3 stones at a time.')\n",
    "        user()\n",
    "    elif stones - stones_to_remove < 0:\n",
    "        print('There arent that many stones left.')\n",
    "        user()\n",
    "    else:\n",
    "        stones -= stones_to_remove\n",
    "        pile_dict[pile_to_remove_from] -= stones_to_remove\n",
    "        print('You removed {} from pile {}.'.format(stones_to_remove, pile_to_remove_from))\n",
    "        display()"
   ]
  },
  {
   "cell_type": "code",
   "execution_count": 122,
   "metadata": {},
   "outputs": [
    {
     "name": "stdout",
     "output_type": "stream",
     "text": [
      "       o o o        \n",
      "     o o o o o      \n",
      "   o o o o o o o    \n",
      "3\n",
      "1\n",
      "15\n"
     ]
    },
    {
     "ename": "UnboundLocalError",
     "evalue": "local variable 'stones' referenced before assignment",
     "output_type": "error",
     "traceback": [
      "\u001b[0;31m---------------------------------------------------------------------------\u001b[0m",
      "\u001b[0;31mUnboundLocalError\u001b[0m                         Traceback (most recent call last)",
      "\u001b[0;32m/var/folders/2j/rgdd494d7nj6ss812c9b9d6h0000gn/T/ipykernel_13697/1321718960.py\u001b[0m in \u001b[0;36m<module>\u001b[0;34m\u001b[0m\n\u001b[0;32m----> 1\u001b[0;31m \u001b[0muser\u001b[0m\u001b[0;34m(\u001b[0m\u001b[0;34m)\u001b[0m\u001b[0;34m\u001b[0m\u001b[0;34m\u001b[0m\u001b[0m\n\u001b[0m",
      "\u001b[0;32m/var/folders/2j/rgdd494d7nj6ss812c9b9d6h0000gn/T/ipykernel_13697/2650216141.py\u001b[0m in \u001b[0;36muser\u001b[0;34m()\u001b[0m\n\u001b[1;32m     13\u001b[0m         \u001b[0mprint\u001b[0m\u001b[0;34m(\u001b[0m\u001b[0;34m'You cant remove more than 3 stones at a time.'\u001b[0m\u001b[0;34m)\u001b[0m\u001b[0;34m\u001b[0m\u001b[0;34m\u001b[0m\u001b[0m\n\u001b[1;32m     14\u001b[0m         \u001b[0muser\u001b[0m\u001b[0;34m(\u001b[0m\u001b[0;34m)\u001b[0m\u001b[0;34m\u001b[0m\u001b[0;34m\u001b[0m\u001b[0m\n\u001b[0;32m---> 15\u001b[0;31m     \u001b[0;32melif\u001b[0m \u001b[0mstones\u001b[0m \u001b[0;34m-\u001b[0m \u001b[0mstones_to_remove\u001b[0m \u001b[0;34m<\u001b[0m \u001b[0;36m0\u001b[0m\u001b[0;34m:\u001b[0m\u001b[0;34m\u001b[0m\u001b[0;34m\u001b[0m\u001b[0m\n\u001b[0m\u001b[1;32m     16\u001b[0m         \u001b[0mprint\u001b[0m\u001b[0;34m(\u001b[0m\u001b[0;34m'There arent that many stones left.'\u001b[0m\u001b[0;34m)\u001b[0m\u001b[0;34m\u001b[0m\u001b[0;34m\u001b[0m\u001b[0m\n\u001b[1;32m     17\u001b[0m         \u001b[0muser\u001b[0m\u001b[0;34m(\u001b[0m\u001b[0;34m)\u001b[0m\u001b[0;34m\u001b[0m\u001b[0;34m\u001b[0m\u001b[0m\n",
      "\u001b[0;31mUnboundLocalError\u001b[0m: local variable 'stones' referenced before assignment"
     ]
    }
   ],
   "source": [
    "user()"
   ]
  },
  {
   "cell_type": "code",
   "execution_count": 111,
   "metadata": {},
   "outputs": [],
   "source": [
    "def computer():\n",
    "    display()\n",
    "    number_of_stones()\n",
    "    computer_removes_pile = random.randint(range(number_of_piles))\n",
    "    computer_removes = random.randint(1, min(3, stones))\n",
    "    stones -= computer_removes\n",
    "    pile_dict[computer_removes_pile] -= computer_removes\n",
    "    print('The computer removed {} from pile {}.'.format(computer_removes, computer_removes_pile))\n",
    "    display()"
   ]
  },
  {
   "cell_type": "code",
   "execution_count": 112,
   "metadata": {},
   "outputs": [],
   "source": [
    "def nim_game():\n",
    "    global user_turn\n",
    "    global computer_turn\n",
    "\n",
    "    print('Welcome to the nim game.')\n",
    "    setup()\n",
    "    start_sequence = int(input(\"Enter '1' if you would like to go first or '2' if you would like the computer to go first.\"))\n",
    "\n",
    "    if start_sequence == 1:\n",
    "        user_turn = True\n",
    "        computer_turn = False\n",
    "        user()\n",
    "    elif start_sequence == 2:\n",
    "        user_turn = False\n",
    "        computer_turn = True\n",
    "        computer()"
   ]
  },
  {
   "cell_type": "code",
   "execution_count": null,
   "metadata": {},
   "outputs": [],
   "source": []
  }
 ],
 "metadata": {
  "interpreter": {
   "hash": "b0fa6594d8f4cbf19f97940f81e996739fb7646882a419484c72d19e05852a7e"
  },
  "kernelspec": {
   "display_name": "Python 3.9.10 64-bit",
   "language": "python",
   "name": "python3"
  },
  "language_info": {
   "codemirror_mode": {
    "name": "ipython",
    "version": 3
   },
   "file_extension": ".py",
   "mimetype": "text/x-python",
   "name": "python",
   "nbconvert_exporter": "python",
   "pygments_lexer": "ipython3",
   "version": "3.9.10"
  },
  "orig_nbformat": 4
 },
 "nbformat": 4,
 "nbformat_minor": 2
}
