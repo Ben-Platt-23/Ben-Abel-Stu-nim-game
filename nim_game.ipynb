{
 "cells": [
  {
   "cell_type": "code",
   "execution_count": null,
   "metadata": {},
   "outputs": [],
   "source": [
    "j=1\n",
    "i=1"
   ]
  },
  {
   "cell_type": "code",
   "execution_count": 1,
   "metadata": {},
   "outputs": [],
   "source": [
    "def setup():    \n",
    "    num_piles=select_number_piles()\n",
    "    p_list=select_stones_loop(num_piles)\n",
    "    \n",
    "    return p_list"
   ]
  },
  {
   "cell_type": "code",
   "execution_count": 2,
   "metadata": {},
   "outputs": [],
   "source": [
    "def select_number_piles():\n",
    "    #This function should ask the user to select a number of\n",
    "    #piles between 1 and 10 (or more, if you want)\n",
    "    #your code should catch exceptions, including\n",
    "    #numbers outside requested range and strings\n",
    "    p = input('How many piles do you want to play with? Choices are 1 through 10.\\n')\n",
    "    try:\n",
    "        p = int(p)\n",
    "    except ValueError:\n",
    "        print(\"Could not convert input to an integer.\\nPlease enter an integer value!\")\n",
    "    else:\n",
    "        print('Your number of piles is' + str(p) + '.')\n",
    "    return p"
   ]
  },
  {
   "cell_type": "code",
   "execution_count": null,
   "metadata": {},
   "outputs": [],
   "source": [
    "def select_stones_loop(p):\n",
    "    #this function should call select_stones(i)\n",
    "    #for each pile, and build pile_list, where \n",
    "    #pile_list[i]=select_stones(i)\n",
    "    \n",
    "    return pile_list\n",
    "    "
   ]
  },
  {
   "cell_type": "code",
   "execution_count": null,
   "metadata": {},
   "outputs": [],
   "source": [
    "def select_stones(i):\n",
    "    #prompt user to select the number of stones in pile i\n",
    "    #your code should catch exceptions, including\n",
    "    #numbers outside requested range and strings\n",
    "        \n",
    "    return s"
   ]
  },
  {
   "cell_type": "code",
   "execution_count": null,
   "metadata": {},
   "outputs": [],
   "source": [
    "def display_board(pile_list):\n",
    "    # this function should display the game board! \n",
    "    # I recommend you print one pile per line, and print\n",
    "    # the updated gameboard after each player's turn\n",
    "\n",
    "def line_display(j,i):\n",
    "    # this should print the i stones in pile j\n",
    "    # At first you might just want to get your code working, \n",
    "    # but eventually you should try to make the stone piles\n",
    "    # appear organized and visually appealing(centered, ideally)"
   ]
  },
  {
   "cell_type": "code",
   "execution_count": null,
   "metadata": {},
   "outputs": [],
   "source": [
    "def first_turn():\n",
    "    #take input user on who goes first\n",
    "    #suggestion: have the user input a number to indicate \n",
    "    #if player or computer goes first; then catch exceptions \n",
    "    #the same way we did in select_number_piles() \n",
    "    #and select_stones_loop()\n",
    "    return ft    "
   ]
  },
  {
   "cell_type": "code",
   "execution_count": null,
   "metadata": {},
   "outputs": [],
   "source": [
    "#This block of code defines a user turn. \n",
    "#We'll ask the human player how many stones to remove, \n",
    "#and from what pile (You might figure out that there's a best\n",
    "#order to do this in, especially with exception catching in mind)\n",
    "\n",
    "def choose_pile(pile_list):\n",
    "    # This function should ask user which pile they would like\n",
    "    # to remove stones from. You should again apply exception catching;\n",
    "    # users shouldn't be able to chose a pile that doesn't exist, \n",
    "    # or a pile which has no stones in it\n",
    "    \n",
    "    #pile_no is the user chosen pile number; stones will be removed \n",
    "    # from this pile\n",
    "    return(pile_no)\n",
    "\n",
    "def choose_stones(n):\n",
    "    # This function accepts n, the number of stones in the user-chosen \n",
    "    # pile as an argument\n",
    "    # It then prompts the user to select a number of stones to remove\n",
    "    # You should do exception catching to ensure that the user \n",
    "    # chooses a number between 1 and n\n",
    "    \n",
    "    # stone_no is the number of stones to be removed from the given pile\n",
    "    return(stone_no)\n",
    "\n",
    "\n",
    "\n",
    "def user_turn(s_list):\n",
    "    # this function is the \"wrapper\" for the human player turn\n",
    "    # ask the user for input about how many stones to remove\n",
    "    # and from which pile;\n",
    "    # then update the game board and return an updated pile_list\n",
    "    return pile_list"
   ]
  },
  {
   "cell_type": "code",
   "execution_count": null,
   "metadata": {},
   "outputs": [],
   "source": [
    "def computer_turn(pile_list):\n",
    "    # This function should randomly select a pile that has 1 or more\n",
    "    # stones. If that pile has n stones, then the computer should randomly\n",
    "    # select a random integer between 1 and n, and remove that many stones\n",
    "    \n",
    "    #you may want to use the randint() function from the random module\n",
    "    \n",
    "    #update pile_list, and then return the new list\n",
    "    \n",
    "    return pile_list"
   ]
  },
  {
   "cell_type": "code",
   "execution_count": null,
   "metadata": {},
   "outputs": [],
   "source": [
    "def win_check(player_id,pile_list):\n",
    "    #This function should check to see if a player has won!\n",
    "    #It's easiest to check after each player turn\n",
    "    #You can determine the user and the computer id; if the user wins\n",
    "    # you should print out a congratulations message\n",
    "    # if the computer wins, you should be more conciliatory\n",
    "    \n",
    "    \n",
    "    \n",
    "def player_turn(player_id,pile_list):\n",
    "    #This is how I implemented the player turns\n",
    "    #You're welcome to do something different, but I suggest making\n",
    "    #the user/player id 1, and the computer id 2, for example. \n",
    "    if player_id==1:\n",
    "        pile_list=user_turn(pile_list)\n",
    "    else:\n",
    "        pile_list=computer_turn(pile_list)\n",
    "    return pile_list "
   ]
  },
  {
   "cell_type": "code",
   "execution_count": null,
   "metadata": {},
   "outputs": [],
   "source": [
    "#this is the game wrapper...it's going to call the subfunctions\n",
    "#we defined above, and actually play the game!\n",
    "\n",
    "def play_nim():\n",
    "    win_cond=0\n",
    "    pile_list=setup()\n",
    "    a=first_turn()\n",
    "    # Then you have to figure out how to rotate between user and computer turn\n",
    "    # The game should continue as long as no one has won (obvs)\n",
    "    \n",
    "    #Hope y'all have fun with this project! \n",
    "    \n",
    "    #Do your best on Monday to get started, and then email me (after class)\n",
    "    #if you're stuck"
   ]
  }
 ],
 "metadata": {
  "interpreter": {
   "hash": "b0fa6594d8f4cbf19f97940f81e996739fb7646882a419484c72d19e05852a7e"
  },
  "kernelspec": {
   "display_name": "Python 3.9.7 64-bit",
   "language": "python",
   "name": "python3"
  },
  "language_info": {
   "codemirror_mode": {
    "name": "ipython",
    "version": 3
   },
   "file_extension": ".py",
   "mimetype": "text/x-python",
   "name": "python",
   "nbconvert_exporter": "python",
   "pygments_lexer": "ipython3",
   "version": "3.9.10"
  },
  "orig_nbformat": 4
 },
 "nbformat": 4,
 "nbformat_minor": 2
}
