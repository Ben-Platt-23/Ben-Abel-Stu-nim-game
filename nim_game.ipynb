{
 "cells": [
  {
   "cell_type": "code",
   "execution_count": 2,
   "metadata": {},
   "outputs": [],
   "source": [
    "stones = 0\n",
    "number_of_piles = 0\n",
    "pile_dict = {}"
   ]
  },
  {
   "cell_type": "code",
   "execution_count": 3,
   "metadata": {},
   "outputs": [
    {
     "name": "stdout",
     "output_type": "stream",
     "text": [
      "Your number of piles is 5.\n"
     ]
    }
   ],
   "source": [
    "def select_number_piles():\n",
    "    #This function should ask the user to select a number of\n",
    "    #piles between 1 and 10 (or more, if you want)\n",
    "    #your code should catch exceptions, including\n",
    "    #numbers outside requested range and strings\n",
    "\n",
    "    # Creates a variable that holds the value for the amount of piles the user wants \n",
    "    global number_of_piles\n",
    "    number_of_piles = int(input('How many piles do you want to play with? Choices are 1 through 10.\\n'))\n",
    "    # Starts exception catching \n",
    "    if number_of_piles >= 1 and number_of_piles <= 10 and number_of_piles and number_of_piles == int(number_of_piles):\n",
    "        print('Your number of piles is ' + str(number_of_piles) + '.')\n",
    "    else:\n",
    "        print('Invalid input.\\n Please enter an integer value between 1 and 10.')\n",
    "        select_number_piles()\n",
    "        \n",
    "\n",
    "select_number_piles()"
   ]
  },
  {
   "cell_type": "code",
   "execution_count": 4,
   "metadata": {},
   "outputs": [
    {
     "data": {
      "text/plain": [
       "('5', 3)"
      ]
     },
     "execution_count": 4,
     "metadata": {},
     "output_type": "execute_result"
    }
   ],
   "source": [
    "\n",
    "number_of_piles = 3\n",
    "def select_stones():\n",
    "    counter  = 0\n",
    "\n",
    "    for pile in range(number_of_piles):\n",
    "        stones_in_pile = input('How many stones do you want in this pile? Choices are 1 through 10.\\n')\n",
    "        pile_dict[counter] = stones_in_pile\n",
    "        counter += 1\n",
    "    return stones_in_pile, counter\n",
    "        \n",
    "        \n",
    "select_stones()\n",
    "\n",
    "    "
   ]
  },
  {
   "cell_type": "code",
   "execution_count": 6,
   "metadata": {},
   "outputs": [
    {
     "ename": "IndentationError",
     "evalue": "expected an indented block after function definition on line 1 (2984300661.py, line 9)",
     "output_type": "error",
     "traceback": [
      "\u001b[1;36m  Input \u001b[1;32mIn [6]\u001b[1;36m\u001b[0m\n\u001b[1;33m    \u001b[0m\n\u001b[1;37m    ^\u001b[0m\n\u001b[1;31mIndentationError\u001b[0m\u001b[1;31m:\u001b[0m expected an indented block after function definition on line 1\n"
     ]
    }
   ],
   "source": [
    "def select_stones_loop(number_of_piles):\n",
    "    \n",
    "\n",
    "\n",
    "\n",
    "        \n",
    "    \n",
    "\n",
    "\n",
    "    \n",
    "        "
   ]
  },
  {
   "cell_type": "code",
   "execution_count": null,
   "metadata": {},
   "outputs": [],
   "source": [
    "def display_board(pile_list):\n",
    "    # this function should display the game board! \n",
    "    # I recommend you print one pile per line, and print\n",
    "    # the updated gameboard after each player's turn\n",
    "\n",
    "def line_display(j,i):\n",
    "    # this should print the i stones in pile j\n",
    "    # At first you might just want to get your code working, \n",
    "    # but eventually you should try to make the stone piles\n",
    "    # appear organized and visually appealing(centered, ideally)"
   ]
  },
  {
   "cell_type": "code",
   "execution_count": null,
   "metadata": {},
   "outputs": [],
   "source": [
    "def win_check(player_id,pile_list):\n",
    "    #This function should check to see if a player has won!\n",
    "    #It's easiest to check after each player turn\n",
    "    #You can determine the user and the computer id; if the user wins\n",
    "    # you should print out a congratulations message\n",
    "    # if the computer wins, you should be more conciliatory"
   ]
  }
 ],
 "metadata": {
  "interpreter": {
   "hash": "b0fa6594d8f4cbf19f97940f81e996739fb7646882a419484c72d19e05852a7e"
  },
  "kernelspec": {
   "display_name": "Python 3.9.7 64-bit",
   "language": "python",
   "name": "python3"
  },
  "language_info": {
   "codemirror_mode": {
    "name": "ipython",
    "version": 3
   },
   "file_extension": ".py",
   "mimetype": "text/x-python",
   "name": "python",
   "nbconvert_exporter": "python",
   "pygments_lexer": "ipython3",
   "version": "3.9.10"
  },
  "orig_nbformat": 4
 },
 "nbformat": 4,
 "nbformat_minor": 2
}
