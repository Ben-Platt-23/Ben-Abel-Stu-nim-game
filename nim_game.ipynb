{
 "cells": [
  {
   "cell_type": "code",
   "execution_count": 4,
   "metadata": {},
   "outputs": [],
   "source": [
    "import random"
   ]
  },
  {
   "cell_type": "code",
   "execution_count": 5,
   "metadata": {},
   "outputs": [],
   "source": [
    "stones = 0\n",
    "number_of_piles = 0\n",
    "pile_dict = {}\n",
    "user_turn = False\n",
    "computer_turn = False\n",
    "stones_left = 0\n"
   ]
  },
  {
   "cell_type": "code",
   "execution_count": 7,
   "metadata": {},
   "outputs": [
    {
     "name": "stdout",
     "output_type": "stream",
     "text": [
      "Your number of piles is 3.\n"
     ]
    }
   ],
   "source": [
    "def select_number_piles():\n",
    "    #This function should ask the user to select a number of\n",
    "    #piles between 1 and 10 (or more, if you want)\n",
    "    #your code should catch exceptions, including\n",
    "    #numbers outside requested range and strings\n",
    "\n",
    "    # Creates a variable that holds the value for the amount of piles the user wants \n",
    "    global number_of_piles\n",
    "    number_of_piles = int(input('How many piles do you want to play with? Choices are 1 through 10.\\n'))\n",
    "    # Starts exception catching \n",
    "    if number_of_piles >= 1 and number_of_piles <= 10 and number_of_piles and number_of_piles == int(number_of_piles):\n",
    "        print('Your number of piles is ' + str(number_of_piles) + '.')\n",
    "        select_stones()\n",
    "    else:\n",
    "        print('Invalid input.\\n Please enter an integer value between 1 and 10.')\n",
    "        select_number_piles()\n",
    "        \n",
    "\n",
    "select_number_piles()"
   ]
  },
  {
   "cell_type": "code",
   "execution_count": 6,
   "metadata": {},
   "outputs": [],
   "source": [
    "\n",
    "def select_stones():\n",
    "    counter  = 0\n",
    "\n",
    "    for pile in range(number_of_piles):\n",
    "        stones_in_pile = input('How many stones do you want in this pile? Choices are 1 through 10.\\n')\n",
    "        pile_dict[counter] = stones_in_pile\n",
    "        counter += 1\n",
    "        \n",
    "        \n",
    "#select_stones()\n",
    "\n",
    "    "
   ]
  },
  {
   "cell_type": "code",
   "execution_count": 8,
   "metadata": {},
   "outputs": [
    {
     "name": "stdout",
     "output_type": "stream",
     "text": [
      "Pile 1: o o o \n",
      "Pile 2: o o o o o \n",
      "Pile 3: o o o o o o o \n"
     ]
    }
   ],
   "source": [
    "def display_board():\n",
    "    for i in range(number_of_piles):\n",
    "        print('Pile {}: {}'.format(i + 1, 'o ' * int(pile_dict[i])))\n",
    "\n",
    "display_board()"
   ]
  },
  {
   "cell_type": "code",
   "execution_count": 9,
   "metadata": {},
   "outputs": [],
   "source": [
    "def start_sequence():\n",
    "    print('Welcome to the nim game.')\n",
    "    global first_turn\n",
    "    first_turn = int(input('Enter 1 to go first or 0 for the computer to go first.'))\n",
    "\n",
    "    if first_turn == 1:\n",
    "        user_turn = True\n",
    "        computer_turn = False\n",
    "        nim_game()\n",
    "    elif first_turn == 0:\n",
    "        user_turn = False\n",
    "        computer_turn = True\n",
    "        nim_game()\n"
   ]
  },
  {
   "cell_type": "code",
   "execution_count": 11,
   "metadata": {},
   "outputs": [],
   "source": [
    "def nim_game():\n",
    "    global stones_left\n",
    "    stones_left = 0\n",
    "    for i in range(number_of_piles):\n",
    "        stones_left += int(pile_dict[i])\n",
    "\n",
    "    while stones_left > 0:\n",
    "        while user_turn == True:\n",
    "            global pile_to_remove_from\n",
    "            pile_to_remove_from = int(input('What pile do you want to remove stones from?'))\n",
    "            global stones_to_remove\n",
    "            stones_to_remove = int(input('How many stones do you want to remove from {}. (Max of 3 stones)'.format(pile_to_remove_from)))\n",
    "\n",
    "            if stones_to_remove > 3:\n",
    "                print(\"You can't remove more than 3 stones at a time.\")\n",
    "                nim_game()\n",
    "            elif stones_left - stones_to_remove < 0:\n",
    "                print(\"There aren't that many stones left.\")\n",
    "                nim_game()\n",
    "            else:\n",
    "                stones_left -= stones_to_remove\n",
    "                pile_dict[pile_to_remove_from] -= stones_to_remove\n",
    "                print(\"You removed {} from pile {}.\".format(stones_to_remove, pile_to_remove_from))\n",
    "                display_board()\n",
    "                nim_game()\n",
    "        \n",
    "        \n",
    "        \n",
    "        while computer_turn == True:\n",
    "            global computer_removes_pile\n",
    "            computer_removes_pile = random.randint(range(number_of_piles))\n",
    "            global computer_removes\n",
    "            computer_removes = random.randint(1, min(3, stones_left))\n",
    "            stones_left -= computer_removes\n",
    "            pile_dict[computer_removes_pile] -= computer_removes\n",
    "            print(\"The computer removed {} from pile {}.\".format(computer_removes, computer_removes_pile))\n",
    "            display_board\n",
    "\n",
    "\n",
    "    start_sequence()"
   ]
  },
  {
   "cell_type": "code",
   "execution_count": 12,
   "metadata": {},
   "outputs": [],
   "source": [
    "nim_game()"
   ]
  }
 ],
 "metadata": {
  "interpreter": {
   "hash": "b0fa6594d8f4cbf19f97940f81e996739fb7646882a419484c72d19e05852a7e"
  },
  "kernelspec": {
   "display_name": "Python 3.9.7 64-bit",
   "language": "python",
   "name": "python3"
  },
  "language_info": {
   "codemirror_mode": {
    "name": "ipython",
    "version": 3
   },
   "file_extension": ".py",
   "mimetype": "text/x-python",
   "name": "python",
   "nbconvert_exporter": "python",
   "pygments_lexer": "ipython3",
   "version": "3.10.2"
  },
  "orig_nbformat": 4
 },
 "nbformat": 4,
 "nbformat_minor": 2
}
