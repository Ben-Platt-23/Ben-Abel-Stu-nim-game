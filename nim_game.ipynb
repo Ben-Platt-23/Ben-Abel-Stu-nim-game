{
 "cells": [
  {
   "cell_type": "code",
   "execution_count": 19,
   "metadata": {},
   "outputs": [],
   "source": [
    "import random"
   ]
  },
  {
   "cell_type": "code",
   "execution_count": 37,
   "metadata": {},
   "outputs": [],
   "source": [
    "pile_dict = {}\n",
    "start_sequence = None\n",
    "userTurn = False\n",
    "computerTurn = False"
   ]
  },
  {
   "cell_type": "code",
   "execution_count": 28,
   "metadata": {},
   "outputs": [],
   "source": [
    "def select_number_piles():\n",
    "    # Creates a variable that holds the value for the amount of piles the user wants \n",
    "    global number_of_piles\n",
    "    number_of_piles = int(input('How many piles do you want to play with? Choices are 1 through 10.\\n'))\n",
    "    \n",
    "    # Exception catching\n",
    "    if number_of_piles >= 1 and number_of_piles <= 10 and number_of_piles and number_of_piles == int(number_of_piles):\n",
    "        print('Your number of piles is ' + str(number_of_piles) + '.')\n",
    "        select_stones()\n",
    "    else:\n",
    "        print('Invalid input.\\n Please enter an integer value between 1 and 10.')\n",
    "        select_number_piles()"
   ]
  },
  {
   "cell_type": "code",
   "execution_count": 39,
   "metadata": {},
   "outputs": [],
   "source": [
    "def select_stones():\n",
    "    stones = 0\n",
    "    # Creates a counter for the for loop\n",
    "    counter  = 0\n",
    "\n",
    "    # Starts a for loop using the value that number of piles holds as a range\n",
    "    for pile in range(number_of_piles):\n",
    "        # Creates a variable that will hold the users input for how many stones they want to remove from the given pile\n",
    "        stones_in_pile = input('How many stones do you want in this pile? Choices are 1 through 10.\\n')\n",
    "        # Takes the dictionary i created earlier and sets the key as the counter(pile number) and the value as the amount of stones in the pile\n",
    "        pile_dict[counter] = stones_in_pile\n",
    "        # Adds one to the counter for the next run\n",
    "        counter += 1\n",
    "    \n",
    "    for i in range(number_of_piles):\n",
    "        stones += int(pile_dict[i])"
   ]
  },
  {
   "cell_type": "code",
   "execution_count": 30,
   "metadata": {},
   "outputs": [],
   "source": [
    "def display_board():\n",
    "    # Another for loop using number of piles as a range\n",
    "    for i in range(number_of_piles):\n",
    "        # Prints out multiples lines based on how many piles there are \n",
    "        # The .format function takes in the pile + 1 and then prints out 'o's based on how many stones are currently in the given pile\n",
    "        print('Pile {}: {}'.format(i + 1, 'o ' * int(pile_dict[i])))"
   ]
  },
  {
   "cell_type": "code",
   "execution_count": 40,
   "metadata": {},
   "outputs": [],
   "source": [
    "def nim_game():\n",
    "    select_number_piles()\n",
    "    \n",
    "\n",
    "    print('Welcome to the nim game.')\n",
    "    start_sequence = int(input('Enter 1 to go first or 0 for the computer to go first.'))\n",
    "    \n",
    "    \n",
    "\n",
    "    try:\n",
    "        if start_sequence == 1:\n",
    "            userTurn = True\n",
    "            computerTurn = False\n",
    "            user_turn()\n",
    "        elif start_sequence == 0:\n",
    "            computerTurn = True\n",
    "            userTurn = False\n",
    "            computer_turn()\n",
    "    except ValueError:\n",
    "        print('Invalid entry, please enter an integer value between 1 and 0.')"
   ]
  },
  {
   "cell_type": "code",
   "execution_count": 34,
   "metadata": {},
   "outputs": [],
   "source": [
    "def user_turn():\n",
    "        display_board()\n",
    "        global pile_to_remove_from\n",
    "        pile_to_remove_from = int(input('What pile do you want to remove stones from?'))\n",
    "        global stones_to_remove\n",
    "        stones_to_remove = int(input('How many stones do you want to remove from {}. (Max of 3 stones)'.format(pile_to_remove_from)))\n",
    "        \n",
    "        if stones_to_remove > 3:\n",
    "            print(\"You can't remove more than 3 stones at a time.\")\n",
    "            user_turn()\n",
    "        elif stones - stones_to_remove < 0:\n",
    "            print(\"There aren't that many stones left.\")\n",
    "            user_turn()\n",
    "        else:\n",
    "            stones -= stones_to_remove\n",
    "            pile_dict[pile_to_remove_from] -= stones_to_remove\n",
    "            print(\"You removed {} from pile {}.\".format(stones_to_remove, pile_to_remove_from))\n",
    "            display_board()"
   ]
  },
  {
   "cell_type": "code",
   "execution_count": 35,
   "metadata": {},
   "outputs": [],
   "source": [
    "def computer_turn():\n",
    "        display_board()\n",
    "        global computer_removes_pile\n",
    "        computer_removes_pile = random.randint(range(number_of_piles))\n",
    "        global computer_removes\n",
    "        computer_removes = random.randint(1, min(3, stones_left))\n",
    "        stones -= computer_removes\n",
    "        pile_dict[computer_removes_pile] -= computer_removes\n",
    "        print(\"The computer removed {} from pile {}.\".format(computer_removes, computer_removes_pile))\n",
    "        display_board"
   ]
  },
  {
   "cell_type": "code",
   "execution_count": 42,
   "metadata": {},
   "outputs": [
    {
     "name": "stdout",
     "output_type": "stream",
     "text": [
      "Your number of piles is 3.\n",
      "Welcome to the nim game.\n",
      "Pile 1: o o o \n",
      "Pile 2: o o o o o \n",
      "Pile 3: o o o o o o o \n"
     ]
    },
    {
     "ename": "UnboundLocalError",
     "evalue": "local variable 'stones' referenced before assignment",
     "output_type": "error",
     "traceback": [
      "\u001b[0;31m---------------------------------------------------------------------------\u001b[0m",
      "\u001b[0;31mUnboundLocalError\u001b[0m                         Traceback (most recent call last)",
      "\u001b[0;32m/var/folders/2j/rgdd494d7nj6ss812c9b9d6h0000gn/T/ipykernel_46426/1831759415.py\u001b[0m in \u001b[0;36m<module>\u001b[0;34m\u001b[0m\n\u001b[0;32m----> 1\u001b[0;31m \u001b[0mnim_game\u001b[0m\u001b[0;34m(\u001b[0m\u001b[0;34m)\u001b[0m\u001b[0;34m\u001b[0m\u001b[0;34m\u001b[0m\u001b[0m\n\u001b[0m",
      "\u001b[0;32m/var/folders/2j/rgdd494d7nj6ss812c9b9d6h0000gn/T/ipykernel_46426/1486756713.py\u001b[0m in \u001b[0;36mnim_game\u001b[0;34m()\u001b[0m\n\u001b[1;32m     12\u001b[0m             \u001b[0muserTurn\u001b[0m \u001b[0;34m=\u001b[0m \u001b[0;32mTrue\u001b[0m\u001b[0;34m\u001b[0m\u001b[0;34m\u001b[0m\u001b[0m\n\u001b[1;32m     13\u001b[0m             \u001b[0mcomputerTurn\u001b[0m \u001b[0;34m=\u001b[0m \u001b[0;32mFalse\u001b[0m\u001b[0;34m\u001b[0m\u001b[0;34m\u001b[0m\u001b[0m\n\u001b[0;32m---> 14\u001b[0;31m             \u001b[0muser_turn\u001b[0m\u001b[0;34m(\u001b[0m\u001b[0;34m)\u001b[0m\u001b[0;34m\u001b[0m\u001b[0;34m\u001b[0m\u001b[0m\n\u001b[0m\u001b[1;32m     15\u001b[0m         \u001b[0;32melif\u001b[0m \u001b[0mstart_sequence\u001b[0m \u001b[0;34m==\u001b[0m \u001b[0;36m0\u001b[0m\u001b[0;34m:\u001b[0m\u001b[0;34m\u001b[0m\u001b[0;34m\u001b[0m\u001b[0m\n\u001b[1;32m     16\u001b[0m             \u001b[0mcomputerTurn\u001b[0m \u001b[0;34m=\u001b[0m \u001b[0;32mTrue\u001b[0m\u001b[0;34m\u001b[0m\u001b[0;34m\u001b[0m\u001b[0m\n",
      "\u001b[0;32m/var/folders/2j/rgdd494d7nj6ss812c9b9d6h0000gn/T/ipykernel_46426/1187587152.py\u001b[0m in \u001b[0;36muser_turn\u001b[0;34m()\u001b[0m\n\u001b[1;32m      9\u001b[0m             \u001b[0mprint\u001b[0m\u001b[0;34m(\u001b[0m\u001b[0;34m\"You can't remove more than 3 stones at a time.\"\u001b[0m\u001b[0;34m)\u001b[0m\u001b[0;34m\u001b[0m\u001b[0;34m\u001b[0m\u001b[0m\n\u001b[1;32m     10\u001b[0m             \u001b[0muser_turn\u001b[0m\u001b[0;34m(\u001b[0m\u001b[0;34m)\u001b[0m\u001b[0;34m\u001b[0m\u001b[0;34m\u001b[0m\u001b[0m\n\u001b[0;32m---> 11\u001b[0;31m         \u001b[0;32melif\u001b[0m \u001b[0mstones\u001b[0m \u001b[0;34m-\u001b[0m \u001b[0mstones_to_remove\u001b[0m \u001b[0;34m<\u001b[0m \u001b[0;36m0\u001b[0m\u001b[0;34m:\u001b[0m\u001b[0;34m\u001b[0m\u001b[0;34m\u001b[0m\u001b[0m\n\u001b[0m\u001b[1;32m     12\u001b[0m             \u001b[0mprint\u001b[0m\u001b[0;34m(\u001b[0m\u001b[0;34m\"There aren't that many stones left.\"\u001b[0m\u001b[0;34m)\u001b[0m\u001b[0;34m\u001b[0m\u001b[0;34m\u001b[0m\u001b[0m\n\u001b[1;32m     13\u001b[0m             \u001b[0muser_turn\u001b[0m\u001b[0;34m(\u001b[0m\u001b[0;34m)\u001b[0m\u001b[0;34m\u001b[0m\u001b[0;34m\u001b[0m\u001b[0m\n",
      "\u001b[0;31mUnboundLocalError\u001b[0m: local variable 'stones' referenced before assignment"
     ]
    }
   ],
   "source": [
    "nim_game()"
   ]
  }
 ],
 "metadata": {
  "interpreter": {
   "hash": "b0fa6594d8f4cbf19f97940f81e996739fb7646882a419484c72d19e05852a7e"
  },
  "kernelspec": {
   "display_name": "Python 3.9.7 64-bit",
   "language": "python",
   "name": "python3"
  },
  "language_info": {
   "codemirror_mode": {
    "name": "ipython",
    "version": 3
   },
   "file_extension": ".py",
   "mimetype": "text/x-python",
   "name": "python",
   "nbconvert_exporter": "python",
   "pygments_lexer": "ipython3",
   "version": "3.9.10"
  },
  "orig_nbformat": 4
 },
 "nbformat": 4,
 "nbformat_minor": 2
}
